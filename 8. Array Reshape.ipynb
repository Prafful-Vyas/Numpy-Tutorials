{
 "cells": [
  {
   "cell_type": "markdown",
   "id": "8fc92f6b",
   "metadata": {},
   "source": [
    "## Reshape\n",
    "\n",
    "### Shape: The shape of an array is the number of elements in each dimension"
   ]
  },
  {
   "cell_type": "code",
   "execution_count": 1,
   "id": "81fd0a8d",
   "metadata": {},
   "outputs": [],
   "source": [
    "import numpy as np"
   ]
  },
  {
   "cell_type": "code",
   "execution_count": 2,
   "id": "020071de",
   "metadata": {},
   "outputs": [],
   "source": [
    "arr = np.array([[1,2,3,4],[5,6,7,8]])"
   ]
  },
  {
   "cell_type": "code",
   "execution_count": 3,
   "id": "bc479ebb",
   "metadata": {},
   "outputs": [
    {
     "data": {
      "text/plain": [
       "(2, 4)"
      ]
     },
     "execution_count": 3,
     "metadata": {},
     "output_type": "execute_result"
    }
   ],
   "source": [
    "arr.shape"
   ]
  },
  {
   "cell_type": "code",
   "execution_count": 4,
   "id": "0c80b092",
   "metadata": {},
   "outputs": [
    {
     "data": {
      "text/plain": [
       "array([[1, 2, 3, 4],\n",
       "       [5, 6, 7, 8]])"
      ]
     },
     "execution_count": 4,
     "metadata": {},
     "output_type": "execute_result"
    }
   ],
   "source": [
    "arr"
   ]
  },
  {
   "cell_type": "code",
   "execution_count": 5,
   "id": "c65ec732",
   "metadata": {},
   "outputs": [],
   "source": [
    "# 3D array\n",
    "arr = np.array([[[1,2,3,4],[4,5,6,5]],[[3,4,5,8],[5,6,7,9]],[[23,34,56,78],[45,67,78,56]]])"
   ]
  },
  {
   "cell_type": "code",
   "execution_count": 6,
   "id": "9964302b",
   "metadata": {},
   "outputs": [
    {
     "data": {
      "text/plain": [
       "array([[[ 1,  2,  3,  4],\n",
       "        [ 4,  5,  6,  5]],\n",
       "\n",
       "       [[ 3,  4,  5,  8],\n",
       "        [ 5,  6,  7,  9]],\n",
       "\n",
       "       [[23, 34, 56, 78],\n",
       "        [45, 67, 78, 56]]])"
      ]
     },
     "execution_count": 6,
     "metadata": {},
     "output_type": "execute_result"
    }
   ],
   "source": [
    "arr"
   ]
  },
  {
   "cell_type": "code",
   "execution_count": 7,
   "id": "150070e9",
   "metadata": {},
   "outputs": [
    {
     "data": {
      "text/plain": [
       "(3, 2, 4)"
      ]
     },
     "execution_count": 7,
     "metadata": {},
     "output_type": "execute_result"
    }
   ],
   "source": [
    "arr.shape"
   ]
  },
  {
   "cell_type": "code",
   "execution_count": 8,
   "id": "36dc3898",
   "metadata": {},
   "outputs": [],
   "source": [
    "arr = np.array([1,2,3,4], ndmin=5)"
   ]
  },
  {
   "cell_type": "code",
   "execution_count": 9,
   "id": "fc53f8ea",
   "metadata": {},
   "outputs": [
    {
     "data": {
      "text/plain": [
       "(1, 1, 1, 1, 4)"
      ]
     },
     "execution_count": 9,
     "metadata": {},
     "output_type": "execute_result"
    }
   ],
   "source": [
    "arr.shape"
   ]
  },
  {
   "cell_type": "markdown",
   "id": "ac9df461",
   "metadata": {},
   "source": [
    "## Reshape: Changing the shape of array\n",
    "- By reshaping we can add or remove dimensions or change number of elements in each dimension"
   ]
  },
  {
   "cell_type": "code",
   "execution_count": 15,
   "id": "422324be",
   "metadata": {},
   "outputs": [],
   "source": [
    "a = np.array([1,2,3,4,5,6,7,8,9,67,12,45,24,678,89,89,56,454,23,56,76,89,65,45])"
   ]
  },
  {
   "cell_type": "code",
   "execution_count": 16,
   "id": "4a6f9127",
   "metadata": {},
   "outputs": [
    {
     "data": {
      "text/plain": [
       "(24,)"
      ]
     },
     "execution_count": 16,
     "metadata": {},
     "output_type": "execute_result"
    }
   ],
   "source": [
    "a.shape"
   ]
  },
  {
   "cell_type": "code",
   "execution_count": 17,
   "id": "0edc7a8c",
   "metadata": {},
   "outputs": [
    {
     "data": {
      "text/plain": [
       "1"
      ]
     },
     "execution_count": 17,
     "metadata": {},
     "output_type": "execute_result"
    }
   ],
   "source": [
    "a.ndim"
   ]
  },
  {
   "cell_type": "code",
   "execution_count": 18,
   "id": "f9b6bae0",
   "metadata": {},
   "outputs": [
    {
     "data": {
      "text/plain": [
       "array([  1,   2,   3,   4,   5,   6,   7,   8,   9,  67,  12,  45,  24,\n",
       "       678,  89,  89,  56, 454,  23,  56,  76,  89,  65,  45])"
      ]
     },
     "execution_count": 18,
     "metadata": {},
     "output_type": "execute_result"
    }
   ],
   "source": [
    "a"
   ]
  },
  {
   "cell_type": "markdown",
   "id": "3a798e06",
   "metadata": {},
   "source": [
    "## Reshape from 1-D to 2-D"
   ]
  },
  {
   "cell_type": "code",
   "execution_count": 19,
   "id": "21ec849b",
   "metadata": {},
   "outputs": [
    {
     "data": {
      "text/plain": [
       "array([[  1,   2,   3,   4],\n",
       "       [  5,   6,   7,   8],\n",
       "       [  9,  67,  12,  45],\n",
       "       [ 24, 678,  89,  89],\n",
       "       [ 56, 454,  23,  56],\n",
       "       [ 76,  89,  65,  45]])"
      ]
     },
     "execution_count": 19,
     "metadata": {},
     "output_type": "execute_result"
    }
   ],
   "source": [
    "a.reshape(6,4)"
   ]
  },
  {
   "cell_type": "code",
   "execution_count": 20,
   "id": "de6e7028",
   "metadata": {},
   "outputs": [],
   "source": [
    "a2d = a.reshape(6,4)"
   ]
  },
  {
   "cell_type": "code",
   "execution_count": 21,
   "id": "7b1ec8ac",
   "metadata": {},
   "outputs": [
    {
     "data": {
      "text/plain": [
       "(6, 4)"
      ]
     },
     "execution_count": 21,
     "metadata": {},
     "output_type": "execute_result"
    }
   ],
   "source": [
    "a2d.shape"
   ]
  },
  {
   "cell_type": "code",
   "execution_count": 22,
   "id": "daba3f12",
   "metadata": {},
   "outputs": [
    {
     "data": {
      "text/plain": [
       "2"
      ]
     },
     "execution_count": 22,
     "metadata": {},
     "output_type": "execute_result"
    }
   ],
   "source": [
    "a2d.ndim"
   ]
  },
  {
   "cell_type": "markdown",
   "id": "5c7fb87c",
   "metadata": {},
   "source": [
    "## Reshape into 3-D\n",
    "- 3 D array reshape((a,b,c)) = a is number of batches, b is number of rows, c is number of columns"
   ]
  },
  {
   "cell_type": "code",
   "execution_count": 23,
   "id": "9a9f2e8a",
   "metadata": {},
   "outputs": [
    {
     "data": {
      "text/plain": [
       "array([[[  1,   2],\n",
       "        [  3,   4],\n",
       "        [  5,   6]],\n",
       "\n",
       "       [[  7,   8],\n",
       "        [  9,  67],\n",
       "        [ 12,  45]],\n",
       "\n",
       "       [[ 24, 678],\n",
       "        [ 89,  89],\n",
       "        [ 56, 454]],\n",
       "\n",
       "       [[ 23,  56],\n",
       "        [ 76,  89],\n",
       "        [ 65,  45]]])"
      ]
     },
     "execution_count": 23,
     "metadata": {},
     "output_type": "execute_result"
    }
   ],
   "source": [
    "a.reshape(4,3,2)"
   ]
  },
  {
   "cell_type": "code",
   "execution_count": 24,
   "id": "3d4fae98",
   "metadata": {},
   "outputs": [],
   "source": [
    "a3da = a.reshape(4,3,2)"
   ]
  },
  {
   "cell_type": "code",
   "execution_count": 25,
   "id": "4eb597fe",
   "metadata": {},
   "outputs": [
    {
     "data": {
      "text/plain": [
       "array([[[  1,   2],\n",
       "        [  3,   4],\n",
       "        [  5,   6]],\n",
       "\n",
       "       [[  7,   8],\n",
       "        [  9,  67],\n",
       "        [ 12,  45]],\n",
       "\n",
       "       [[ 24, 678],\n",
       "        [ 89,  89],\n",
       "        [ 56, 454]],\n",
       "\n",
       "       [[ 23,  56],\n",
       "        [ 76,  89],\n",
       "        [ 65,  45]]])"
      ]
     },
     "execution_count": 25,
     "metadata": {},
     "output_type": "execute_result"
    }
   ],
   "source": [
    "a3da"
   ]
  },
  {
   "cell_type": "code",
   "execution_count": 26,
   "id": "07f18e39",
   "metadata": {},
   "outputs": [
    {
     "data": {
      "text/plain": [
       "(4, 3, 2)"
      ]
     },
     "execution_count": 26,
     "metadata": {},
     "output_type": "execute_result"
    }
   ],
   "source": [
    "a3da.shape"
   ]
  },
  {
   "cell_type": "code",
   "execution_count": 27,
   "id": "0a7af603",
   "metadata": {},
   "outputs": [
    {
     "data": {
      "text/plain": [
       "3"
      ]
     },
     "execution_count": 27,
     "metadata": {},
     "output_type": "execute_result"
    }
   ],
   "source": [
    "a3da.ndim"
   ]
  },
  {
   "cell_type": "code",
   "execution_count": 28,
   "id": "d337cf0e",
   "metadata": {},
   "outputs": [],
   "source": [
    "a3db = a2d.reshape(4,3,2)"
   ]
  },
  {
   "cell_type": "code",
   "execution_count": 29,
   "id": "c9e0105e",
   "metadata": {},
   "outputs": [
    {
     "data": {
      "text/plain": [
       "array([[[  1,   2],\n",
       "        [  3,   4],\n",
       "        [  5,   6]],\n",
       "\n",
       "       [[  7,   8],\n",
       "        [  9,  67],\n",
       "        [ 12,  45]],\n",
       "\n",
       "       [[ 24, 678],\n",
       "        [ 89,  89],\n",
       "        [ 56, 454]],\n",
       "\n",
       "       [[ 23,  56],\n",
       "        [ 76,  89],\n",
       "        [ 65,  45]]])"
      ]
     },
     "execution_count": 29,
     "metadata": {},
     "output_type": "execute_result"
    }
   ],
   "source": [
    "a3db"
   ]
  },
  {
   "cell_type": "markdown",
   "id": "248c6bbd",
   "metadata": {},
   "source": [
    "# 4 D"
   ]
  },
  {
   "cell_type": "code",
   "execution_count": 30,
   "id": "b5d5d1d0",
   "metadata": {},
   "outputs": [
    {
     "data": {
      "text/plain": [
       "array([[[[  1,   2],\n",
       "         [  3,   4],\n",
       "         [  5,   6]],\n",
       "\n",
       "        [[  7,   8],\n",
       "         [  9,  67],\n",
       "         [ 12,  45]]],\n",
       "\n",
       "\n",
       "       [[[ 24, 678],\n",
       "         [ 89,  89],\n",
       "         [ 56, 454]],\n",
       "\n",
       "        [[ 23,  56],\n",
       "         [ 76,  89],\n",
       "         [ 65,  45]]]])"
      ]
     },
     "execution_count": 30,
     "metadata": {},
     "output_type": "execute_result"
    }
   ],
   "source": [
    "a.reshape(2,2,3,2)"
   ]
  },
  {
   "cell_type": "markdown",
   "id": "a3d7ab3e",
   "metadata": {},
   "source": [
    "# High Dimensions"
   ]
  },
  {
   "cell_type": "code",
   "execution_count": 32,
   "id": "3166523c",
   "metadata": {},
   "outputs": [
    {
     "data": {
      "text/plain": [
       "array([[[[[  1,   2],\n",
       "          [  3,   4],\n",
       "          [  5,   6]],\n",
       "\n",
       "         [[  7,   8],\n",
       "          [  9,  67],\n",
       "          [ 12,  45]]],\n",
       "\n",
       "\n",
       "        [[[ 24, 678],\n",
       "          [ 89,  89],\n",
       "          [ 56, 454]],\n",
       "\n",
       "         [[ 23,  56],\n",
       "          [ 76,  89],\n",
       "          [ 65,  45]]]]])"
      ]
     },
     "execution_count": 32,
     "metadata": {},
     "output_type": "execute_result"
    }
   ],
   "source": [
    "# product should be equal to the number of elements\n",
    "a.reshape(1,2,2,3,2)"
   ]
  },
  {
   "cell_type": "markdown",
   "id": "ea276c18",
   "metadata": {},
   "source": [
    "# Can we reshape into any shape?"
   ]
  },
  {
   "cell_type": "code",
   "execution_count": 33,
   "id": "14e5ccfd",
   "metadata": {},
   "outputs": [],
   "source": [
    "# a.reshape(7,3)\n",
    "# Cannot split 24 into 7*3"
   ]
  },
  {
   "cell_type": "markdown",
   "id": "8b09c34e",
   "metadata": {},
   "source": [
    "# Unknown dimension:\n",
    "- You are allowed to have one \"unknown\" dimension\n",
    "- Meaning that you do not have to specify an exact number for one of the dimensions in the reshape method.\n",
    "- Pass -1 as the value, and Numpy will calculate the number for you."
   ]
  },
  {
   "cell_type": "code",
   "execution_count": 34,
   "id": "b7bd0e7f",
   "metadata": {},
   "outputs": [
    {
     "data": {
      "text/plain": [
       "array([  1,   2,   3,   4,   5,   6,   7,   8,   9,  67,  12,  45,  24,\n",
       "       678,  89,  89,  56, 454,  23,  56,  76,  89,  65,  45])"
      ]
     },
     "execution_count": 34,
     "metadata": {},
     "output_type": "execute_result"
    }
   ],
   "source": [
    "a"
   ]
  },
  {
   "cell_type": "code",
   "execution_count": 35,
   "id": "de9fe491",
   "metadata": {},
   "outputs": [
    {
     "data": {
      "text/plain": [
       "(24,)"
      ]
     },
     "execution_count": 35,
     "metadata": {},
     "output_type": "execute_result"
    }
   ],
   "source": [
    "a.shape"
   ]
  },
  {
   "cell_type": "code",
   "execution_count": 37,
   "id": "e2940cf0",
   "metadata": {},
   "outputs": [
    {
     "data": {
      "text/plain": [
       "array([[  1,   2,   3,   4,   5,   6,   7,   8,   9,  67,  12,  45,  24,\n",
       "        678,  89,  89,  56, 454,  23,  56,  76,  89,  65,  45]])"
      ]
     },
     "execution_count": 37,
     "metadata": {},
     "output_type": "execute_result"
    }
   ],
   "source": [
    "a.reshape(1,24)"
   ]
  },
  {
   "cell_type": "code",
   "execution_count": 38,
   "id": "d70cf8b4",
   "metadata": {},
   "outputs": [
    {
     "data": {
      "text/plain": [
       "array([[  1,   2,   3,   4,   5,   6,   7,   8,   9,  67,  12,  45,  24,\n",
       "        678,  89,  89,  56, 454,  23,  56,  76,  89,  65,  45]])"
      ]
     },
     "execution_count": 38,
     "metadata": {},
     "output_type": "execute_result"
    }
   ],
   "source": [
    "a.reshape(1,-1)"
   ]
  },
  {
   "cell_type": "code",
   "execution_count": 39,
   "id": "7687fb41",
   "metadata": {},
   "outputs": [
    {
     "data": {
      "text/plain": [
       "array([[  1],\n",
       "       [  2],\n",
       "       [  3],\n",
       "       [  4],\n",
       "       [  5],\n",
       "       [  6],\n",
       "       [  7],\n",
       "       [  8],\n",
       "       [  9],\n",
       "       [ 67],\n",
       "       [ 12],\n",
       "       [ 45],\n",
       "       [ 24],\n",
       "       [678],\n",
       "       [ 89],\n",
       "       [ 89],\n",
       "       [ 56],\n",
       "       [454],\n",
       "       [ 23],\n",
       "       [ 56],\n",
       "       [ 76],\n",
       "       [ 89],\n",
       "       [ 65],\n",
       "       [ 45]])"
      ]
     },
     "execution_count": 39,
     "metadata": {},
     "output_type": "execute_result"
    }
   ],
   "source": [
    "a.reshape(-1,1)"
   ]
  },
  {
   "cell_type": "code",
   "execution_count": 40,
   "id": "27dc5d5c",
   "metadata": {},
   "outputs": [
    {
     "data": {
      "text/plain": [
       "array([[  1,   2,   3,   4,   5,   6,   7,   8],\n",
       "       [  9,  67,  12,  45,  24, 678,  89,  89],\n",
       "       [ 56, 454,  23,  56,  76,  89,  65,  45]])"
      ]
     },
     "execution_count": 40,
     "metadata": {},
     "output_type": "execute_result"
    }
   ],
   "source": [
    "a.reshape(3,-1)"
   ]
  },
  {
   "cell_type": "code",
   "execution_count": 41,
   "id": "200082e9",
   "metadata": {},
   "outputs": [],
   "source": [
    "# a.reshape(5,-1)\n",
    "# cannot divide 24 by 5"
   ]
  },
  {
   "cell_type": "code",
   "execution_count": 43,
   "id": "50c4d786",
   "metadata": {},
   "outputs": [
    {
     "data": {
      "text/plain": [
       "array([[[  1,   2,   3],\n",
       "        [  4,   5,   6]],\n",
       "\n",
       "       [[  7,   8,   9],\n",
       "        [ 67,  12,  45]],\n",
       "\n",
       "       [[ 24, 678,  89],\n",
       "        [ 89,  56, 454]],\n",
       "\n",
       "       [[ 23,  56,  76],\n",
       "        [ 89,  65,  45]]])"
      ]
     },
     "execution_count": 43,
     "metadata": {},
     "output_type": "execute_result"
    }
   ],
   "source": [
    "a.reshape(-1,2,3)"
   ]
  },
  {
   "cell_type": "code",
   "execution_count": 44,
   "id": "0019507a",
   "metadata": {},
   "outputs": [
    {
     "data": {
      "text/plain": [
       "array([[[  1,   2,   3,   4],\n",
       "        [  5,   6,   7,   8],\n",
       "        [  9,  67,  12,  45]],\n",
       "\n",
       "       [[ 24, 678,  89,  89],\n",
       "        [ 56, 454,  23,  56],\n",
       "        [ 76,  89,  65,  45]]])"
      ]
     },
     "execution_count": 44,
     "metadata": {},
     "output_type": "execute_result"
    }
   ],
   "source": [
    "a.reshape(2,-1,4)"
   ]
  },
  {
   "cell_type": "code",
   "execution_count": 46,
   "id": "ea61a031",
   "metadata": {},
   "outputs": [
    {
     "data": {
      "text/plain": [
       "array([[[[  1,   2],\n",
       "         [  3,   4]],\n",
       "\n",
       "        [[  5,   6],\n",
       "         [  7,   8]]],\n",
       "\n",
       "\n",
       "       [[[  9,  67],\n",
       "         [ 12,  45]],\n",
       "\n",
       "        [[ 24, 678],\n",
       "         [ 89,  89]]],\n",
       "\n",
       "\n",
       "       [[[ 56, 454],\n",
       "         [ 23,  56]],\n",
       "\n",
       "        [[ 76,  89],\n",
       "         [ 65,  45]]]])"
      ]
     },
     "execution_count": 46,
     "metadata": {},
     "output_type": "execute_result"
    }
   ],
   "source": [
    "a.reshape(-1,2,2,2)    # 3 3d matrices of 2 batches of 2*2 2d matrices"
   ]
  },
  {
   "cell_type": "code",
   "execution_count": null,
   "id": "3327778f",
   "metadata": {},
   "outputs": [],
   "source": []
  }
 ],
 "metadata": {
  "kernelspec": {
   "display_name": "Python 3 (ipykernel)",
   "language": "python",
   "name": "python3"
  },
  "language_info": {
   "codemirror_mode": {
    "name": "ipython",
    "version": 3
   },
   "file_extension": ".py",
   "mimetype": "text/x-python",
   "name": "python",
   "nbconvert_exporter": "python",
   "pygments_lexer": "ipython3",
   "version": "3.9.13"
  }
 },
 "nbformat": 4,
 "nbformat_minor": 5
}
