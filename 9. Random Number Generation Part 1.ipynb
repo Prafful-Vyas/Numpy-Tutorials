{
 "cells": [
  {
   "cell_type": "markdown",
   "id": "60c18251",
   "metadata": {},
   "source": [
    "# Random Number Generation"
   ]
  },
  {
   "cell_type": "code",
   "execution_count": 1,
   "id": "fd63d5e2",
   "metadata": {},
   "outputs": [],
   "source": [
    "import numpy as np"
   ]
  },
  {
   "cell_type": "markdown",
   "id": "da10153d",
   "metadata": {},
   "source": [
    "# Generating totally random numbers:\n",
    "- Doesn't follow any distributions\n",
    "\n",
    "## Randint : Generating Random Integer\n",
    "- provide the maximum number"
   ]
  },
  {
   "cell_type": "code",
   "execution_count": 10,
   "id": "8151fb8a",
   "metadata": {},
   "outputs": [
    {
     "data": {
      "text/plain": [
       "35"
      ]
     },
     "execution_count": 10,
     "metadata": {},
     "output_type": "execute_result"
    }
   ],
   "source": [
    "np.random.randint(100)"
   ]
  },
  {
   "cell_type": "code",
   "execution_count": 13,
   "id": "fa167333",
   "metadata": {},
   "outputs": [
    {
     "data": {
      "text/plain": [
       "71"
      ]
     },
     "execution_count": 13,
     "metadata": {},
     "output_type": "execute_result"
    }
   ],
   "source": [
    "np.random.randint(50,100)   # b/w 50 and 100"
   ]
  },
  {
   "cell_type": "code",
   "execution_count": 16,
   "id": "1e5284d3",
   "metadata": {},
   "outputs": [],
   "source": [
    "a = np.random.randint(250,350,(4,3))\n",
    "\n",
    "# 4x3 matrix having random integers b/w 250 and 350"
   ]
  },
  {
   "cell_type": "code",
   "execution_count": 17,
   "id": "7c41523b",
   "metadata": {},
   "outputs": [
    {
     "data": {
      "text/plain": [
       "array([[285, 269, 326],\n",
       "       [252, 303, 332],\n",
       "       [257, 307, 349],\n",
       "       [277, 342, 251]])"
      ]
     },
     "execution_count": 17,
     "metadata": {},
     "output_type": "execute_result"
    }
   ],
   "source": [
    "a"
   ]
  },
  {
   "cell_type": "code",
   "execution_count": 20,
   "id": "4d6588c5",
   "metadata": {},
   "outputs": [],
   "source": [
    "a = np.random.randint(250,350,(3,4,3))\n",
    "\n",
    "# 3x4x3 matrix"
   ]
  },
  {
   "cell_type": "code",
   "execution_count": 21,
   "id": "2288a8ac",
   "metadata": {},
   "outputs": [
    {
     "data": {
      "text/plain": [
       "array([[[268, 286, 287],\n",
       "        [339, 326, 274],\n",
       "        [339, 349, 335],\n",
       "        [326, 338, 271]],\n",
       "\n",
       "       [[303, 298, 292],\n",
       "        [339, 322, 298],\n",
       "        [312, 266, 297],\n",
       "        [342, 322, 315]],\n",
       "\n",
       "       [[327, 349, 332],\n",
       "        [313, 264, 290],\n",
       "        [332, 330, 252],\n",
       "        [274, 293, 281]]])"
      ]
     },
     "execution_count": 21,
     "metadata": {},
     "output_type": "execute_result"
    }
   ],
   "source": [
    "a"
   ]
  },
  {
   "cell_type": "markdown",
   "id": "6a7d8dcc",
   "metadata": {},
   "source": [
    "## rand: Generating Random Float between 0 and 1\n",
    "- provide size"
   ]
  },
  {
   "cell_type": "code",
   "execution_count": 23,
   "id": "c0523cb3",
   "metadata": {},
   "outputs": [
    {
     "data": {
      "text/plain": [
       "0.8669252048058305"
      ]
     },
     "execution_count": 23,
     "metadata": {},
     "output_type": "execute_result"
    }
   ],
   "source": [
    "np.random.rand()    \n",
    "\n",
    "# no need to give any input\n",
    "# will always give float value between 0 and 1"
   ]
  },
  {
   "cell_type": "code",
   "execution_count": 25,
   "id": "44feed89",
   "metadata": {},
   "outputs": [
    {
     "data": {
      "text/plain": [
       "array([0.59505528, 0.41305074, 0.95343256, 0.33441741, 0.18431135])"
      ]
     },
     "execution_count": 25,
     "metadata": {},
     "output_type": "execute_result"
    }
   ],
   "source": [
    "np.random.rand(5)\n",
    "\n",
    "# array of 5 elements having float value between 0 and 1"
   ]
  },
  {
   "cell_type": "code",
   "execution_count": 27,
   "id": "82783d0d",
   "metadata": {},
   "outputs": [
    {
     "data": {
      "text/plain": [
       "array([[0.22442634, 0.59332648, 0.05789585, 0.82298636],\n",
       "       [0.22787967, 0.12300244, 0.53747572, 0.47499338],\n",
       "       [0.224924  , 0.3627122 , 0.25288761, 0.2367752 ],\n",
       "       [0.30799368, 0.69523167, 0.18850315, 0.43495836],\n",
       "       [0.0246998 , 0.70400677, 0.67691337, 0.32722616]])"
      ]
     },
     "execution_count": 27,
     "metadata": {},
     "output_type": "execute_result"
    }
   ],
   "source": [
    "np.random.rand(5,4)\n",
    "\n",
    "# 5x4 2D matrix having float values between 0 and 1"
   ]
  },
  {
   "cell_type": "code",
   "execution_count": 29,
   "id": "f213729b",
   "metadata": {},
   "outputs": [
    {
     "data": {
      "text/plain": [
       "array([[[0.41471047, 0.27702608],\n",
       "        [0.6240463 , 0.08249822],\n",
       "        [0.77664307, 0.17924809],\n",
       "        [0.99894575, 0.59183995]],\n",
       "\n",
       "       [[0.07839999, 0.99997752],\n",
       "        [0.46871161, 0.82564675],\n",
       "        [0.21308929, 0.11023871],\n",
       "        [0.12750004, 0.78130027]],\n",
       "\n",
       "       [[0.47369381, 0.11457363],\n",
       "        [0.42011688, 0.89594668],\n",
       "        [0.45342171, 0.43071871],\n",
       "        [0.16537509, 0.45578946]],\n",
       "\n",
       "       [[0.28097175, 0.59605938],\n",
       "        [0.31057668, 0.2279801 ],\n",
       "        [0.68817379, 0.72500311],\n",
       "        [0.69532683, 0.05497864]],\n",
       "\n",
       "       [[0.23343198, 0.03445205],\n",
       "        [0.66506532, 0.37867758],\n",
       "        [0.1057274 , 0.17645509],\n",
       "        [0.69971936, 0.04936477]]])"
      ]
     },
     "execution_count": 29,
     "metadata": {},
     "output_type": "execute_result"
    }
   ],
   "source": [
    "np.random.rand(5,4,2)\n",
    "\n",
    "# 5x4x2 3D matrix"
   ]
  },
  {
   "cell_type": "code",
   "execution_count": 30,
   "id": "8409ec89",
   "metadata": {},
   "outputs": [],
   "source": [
    "# Creating matrix with floating number, not 0.24342"
   ]
  },
  {
   "cell_type": "code",
   "execution_count": 31,
   "id": "2062d812",
   "metadata": {},
   "outputs": [],
   "source": [
    "inte = np.random.randint(200,size = (3,4))"
   ]
  },
  {
   "cell_type": "code",
   "execution_count": 32,
   "id": "01d02bb4",
   "metadata": {},
   "outputs": [],
   "source": [
    "fl = np.random.rand(3,4)"
   ]
  },
  {
   "cell_type": "code",
   "execution_count": 34,
   "id": "ba93cc78",
   "metadata": {},
   "outputs": [
    {
     "data": {
      "text/plain": [
       "array([[105.7609168 , 120.15698394, 199.98901205, 120.7799017 ],\n",
       "       [143.68834695, 190.63596774, 163.21375632, 113.6960121 ],\n",
       "       [164.00586329, 135.94055618, 132.4319863 ,   3.16646337]])"
      ]
     },
     "execution_count": 34,
     "metadata": {},
     "output_type": "execute_result"
    }
   ],
   "source": [
    "inte + fl  # numbers are less than 200"
   ]
  },
  {
   "cell_type": "markdown",
   "id": "e4a7988b",
   "metadata": {},
   "source": [
    "## Choice:\n",
    "- generate a random value based on an array of values"
   ]
  },
  {
   "cell_type": "code",
   "execution_count": 41,
   "id": "707e5f8e",
   "metadata": {},
   "outputs": [
    {
     "data": {
      "text/plain": [
       "56"
      ]
     },
     "execution_count": 41,
     "metadata": {},
     "output_type": "execute_result"
    }
   ],
   "source": [
    "np.random.choice([43,56,76,89])\n",
    "\n",
    "# gives random value from given array"
   ]
  },
  {
   "cell_type": "code",
   "execution_count": 43,
   "id": "2a591648",
   "metadata": {},
   "outputs": [
    {
     "data": {
      "text/plain": [
       "array([[56, 89, 56, 89, 76],\n",
       "       [43, 43, 56, 56, 43],\n",
       "       [43, 89, 89, 56, 76]])"
      ]
     },
     "execution_count": 43,
     "metadata": {},
     "output_type": "execute_result"
    }
   ],
   "source": [
    "np.random.choice([43,56,76,89], size = (3,5))\n",
    "\n",
    "# 3x5 2D array from given array"
   ]
  },
  {
   "cell_type": "markdown",
   "id": "160c5448",
   "metadata": {},
   "source": [
    "## By using choice we can also specify probability for each value\n",
    "- The sum of all probability numbers should be 1."
   ]
  },
  {
   "cell_type": "code",
   "execution_count": 46,
   "id": "557535e2",
   "metadata": {},
   "outputs": [],
   "source": [
    "x = np.random.choice([3,5,7,9], p = [0.1,0.3,0.6,0.0], size = (5,6))\n",
    "\n",
    "# sum of probabilities should be 1"
   ]
  },
  {
   "cell_type": "code",
   "execution_count": 47,
   "id": "3e3d1e40",
   "metadata": {},
   "outputs": [
    {
     "data": {
      "text/plain": [
       "array([[7, 7, 7, 7, 7, 7],\n",
       "       [5, 5, 5, 5, 7, 7],\n",
       "       [5, 7, 7, 5, 5, 7],\n",
       "       [3, 7, 5, 7, 3, 7],\n",
       "       [5, 3, 7, 7, 7, 7]])"
      ]
     },
     "execution_count": 47,
     "metadata": {},
     "output_type": "execute_result"
    }
   ],
   "source": [
    "x"
   ]
  },
  {
   "cell_type": "code",
   "execution_count": 48,
   "id": "386bd3dc",
   "metadata": {},
   "outputs": [],
   "source": [
    "y = np.random.choice([3,5,7,9], p = [1,0,0,0], size = (5,6))"
   ]
  },
  {
   "cell_type": "code",
   "execution_count": 49,
   "id": "66f04673",
   "metadata": {},
   "outputs": [
    {
     "data": {
      "text/plain": [
       "array([[3, 3, 3, 3, 3, 3],\n",
       "       [3, 3, 3, 3, 3, 3],\n",
       "       [3, 3, 3, 3, 3, 3],\n",
       "       [3, 3, 3, 3, 3, 3],\n",
       "       [3, 3, 3, 3, 3, 3]])"
      ]
     },
     "execution_count": 49,
     "metadata": {},
     "output_type": "execute_result"
    }
   ],
   "source": [
    "y"
   ]
  },
  {
   "cell_type": "code",
   "execution_count": null,
   "id": "33eb1253",
   "metadata": {},
   "outputs": [],
   "source": []
  }
 ],
 "metadata": {
  "kernelspec": {
   "display_name": "Python 3 (ipykernel)",
   "language": "python",
   "name": "python3"
  },
  "language_info": {
   "codemirror_mode": {
    "name": "ipython",
    "version": 3
   },
   "file_extension": ".py",
   "mimetype": "text/x-python",
   "name": "python",
   "nbconvert_exporter": "python",
   "pygments_lexer": "ipython3",
   "version": "3.9.13"
  }
 },
 "nbformat": 4,
 "nbformat_minor": 5
}
