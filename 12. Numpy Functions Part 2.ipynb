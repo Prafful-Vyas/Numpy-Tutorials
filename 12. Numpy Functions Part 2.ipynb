{
 "cells": [
  {
   "cell_type": "markdown",
   "id": "5d84712b",
   "metadata": {},
   "source": [
    "# Numpy Functions: Dot Product, Rounding Functions, Trigonometric Functions, matrix multiplications etc.\n",
    "\n",
    "## Infinity and Nan"
   ]
  },
  {
   "cell_type": "code",
   "execution_count": 1,
   "id": "98732ec9",
   "metadata": {},
   "outputs": [],
   "source": [
    "# 3/0 gives error"
   ]
  },
  {
   "cell_type": "code",
   "execution_count": 2,
   "id": "d42fb5ec",
   "metadata": {},
   "outputs": [],
   "source": [
    "import numpy as np"
   ]
  },
  {
   "cell_type": "code",
   "execution_count": 3,
   "id": "faf2e65f",
   "metadata": {},
   "outputs": [
    {
     "name": "stderr",
     "output_type": "stream",
     "text": [
      "C:\\Users\\DELL\\AppData\\Local\\Temp\\ipykernel_3956\\48870926.py:1: RuntimeWarning: divide by zero encountered in true_divide\n",
      "  np.array(3)/0\n"
     ]
    },
    {
     "data": {
      "text/plain": [
       "inf"
      ]
     },
     "execution_count": 3,
     "metadata": {},
     "output_type": "execute_result"
    }
   ],
   "source": [
    "np.array(3)/0"
   ]
  },
  {
   "cell_type": "code",
   "execution_count": 7,
   "id": "a08b6cf2",
   "metadata": {},
   "outputs": [],
   "source": [
    "a = np.inf     # Numpy has an object for infinity which gets called for infinity"
   ]
  },
  {
   "cell_type": "code",
   "execution_count": 8,
   "id": "af88daaa",
   "metadata": {},
   "outputs": [
    {
     "data": {
      "text/plain": [
       "inf"
      ]
     },
     "execution_count": 8,
     "metadata": {},
     "output_type": "execute_result"
    }
   ],
   "source": [
    "a"
   ]
  },
  {
   "cell_type": "code",
   "execution_count": 9,
   "id": "fa76d5cf",
   "metadata": {},
   "outputs": [
    {
     "data": {
      "text/plain": [
       "nan"
      ]
     },
     "execution_count": 9,
     "metadata": {},
     "output_type": "execute_result"
    }
   ],
   "source": [
    "np.nan"
   ]
  },
  {
   "cell_type": "code",
   "execution_count": 12,
   "id": "f50e723e",
   "metadata": {},
   "outputs": [],
   "source": [
    "a = np.nan  # to store nan value"
   ]
  },
  {
   "cell_type": "code",
   "execution_count": 13,
   "id": "6d7235a6",
   "metadata": {},
   "outputs": [
    {
     "data": {
      "text/plain": [
       "nan"
      ]
     },
     "execution_count": 13,
     "metadata": {},
     "output_type": "execute_result"
    }
   ],
   "source": [
    "a"
   ]
  },
  {
   "cell_type": "markdown",
   "id": "b9951ca7",
   "metadata": {},
   "source": [
    "## Dot Product"
   ]
  },
  {
   "cell_type": "code",
   "execution_count": 14,
   "id": "96db57aa",
   "metadata": {},
   "outputs": [],
   "source": [
    "ara = np.array([1,2,3,44,5])\n",
    "arb = np.array([3,4,5,6,7])"
   ]
  },
  {
   "cell_type": "code",
   "execution_count": 15,
   "id": "6bc64151",
   "metadata": {},
   "outputs": [
    {
     "data": {
      "text/plain": [
       "array([ 1,  2,  3, 44,  5])"
      ]
     },
     "execution_count": 15,
     "metadata": {},
     "output_type": "execute_result"
    }
   ],
   "source": [
    "ara"
   ]
  },
  {
   "cell_type": "code",
   "execution_count": 16,
   "id": "564ef5e4",
   "metadata": {},
   "outputs": [
    {
     "data": {
      "text/plain": [
       "array([3, 4, 5, 6, 7])"
      ]
     },
     "execution_count": 16,
     "metadata": {},
     "output_type": "execute_result"
    }
   ],
   "source": [
    "arb"
   ]
  },
  {
   "cell_type": "code",
   "execution_count": 18,
   "id": "bfee364c",
   "metadata": {},
   "outputs": [
    {
     "data": {
      "text/plain": [
       "325"
      ]
     },
     "execution_count": 18,
     "metadata": {},
     "output_type": "execute_result"
    }
   ],
   "source": [
    "# dot product\n",
    "ara.dot(arb)"
   ]
  },
  {
   "cell_type": "code",
   "execution_count": 20,
   "id": "0ab06263",
   "metadata": {},
   "outputs": [
    {
     "data": {
      "text/plain": [
       "array([[1, 2, 3, 4],\n",
       "       [5, 6, 7, 8]])"
      ]
     },
     "execution_count": 20,
     "metadata": {},
     "output_type": "execute_result"
    }
   ],
   "source": [
    "# Transpose of a matrix - column will become row and vice versa\n",
    "are = np.array([[1,2,3,4],[5,6,7,8]])\n",
    "are"
   ]
  },
  {
   "cell_type": "code",
   "execution_count": 21,
   "id": "83138052",
   "metadata": {},
   "outputs": [],
   "source": [
    "art = are.T"
   ]
  },
  {
   "cell_type": "code",
   "execution_count": 22,
   "id": "6b414344",
   "metadata": {},
   "outputs": [
    {
     "data": {
      "text/plain": [
       "array([[1, 5],\n",
       "       [2, 6],\n",
       "       [3, 7],\n",
       "       [4, 8]])"
      ]
     },
     "execution_count": 22,
     "metadata": {},
     "output_type": "execute_result"
    }
   ],
   "source": [
    "art"
   ]
  },
  {
   "cell_type": "markdown",
   "id": "3417e52c",
   "metadata": {},
   "source": [
    "#### min, max, mean, std values"
   ]
  },
  {
   "cell_type": "code",
   "execution_count": 23,
   "id": "16d13bbd",
   "metadata": {},
   "outputs": [],
   "source": [
    "ard = np.array([1,2,4,6,7,8,9,-12,-45,-110,556,342])"
   ]
  },
  {
   "cell_type": "code",
   "execution_count": 29,
   "id": "921ee960",
   "metadata": {},
   "outputs": [
    {
     "data": {
      "text/plain": [
       "-110"
      ]
     },
     "execution_count": 29,
     "metadata": {},
     "output_type": "execute_result"
    }
   ],
   "source": [
    "# min value\n",
    "ard.min()"
   ]
  },
  {
   "cell_type": "code",
   "execution_count": 30,
   "id": "e2cd89d7",
   "metadata": {},
   "outputs": [
    {
     "data": {
      "text/plain": [
       "556"
      ]
     },
     "execution_count": 30,
     "metadata": {},
     "output_type": "execute_result"
    }
   ],
   "source": [
    "# max value\n",
    "ard.max()"
   ]
  },
  {
   "cell_type": "code",
   "execution_count": 26,
   "id": "98536520",
   "metadata": {},
   "outputs": [
    {
     "data": {
      "text/plain": [
       "9"
      ]
     },
     "execution_count": 26,
     "metadata": {},
     "output_type": "execute_result"
    }
   ],
   "source": [
    "ard.argmin()    # returns index of min value"
   ]
  },
  {
   "cell_type": "code",
   "execution_count": 27,
   "id": "c7981faa",
   "metadata": {},
   "outputs": [
    {
     "data": {
      "text/plain": [
       "10"
      ]
     },
     "execution_count": 27,
     "metadata": {},
     "output_type": "execute_result"
    }
   ],
   "source": [
    "ard.argmax()    # returns index of max value"
   ]
  },
  {
   "cell_type": "code",
   "execution_count": 31,
   "id": "c7aa7a0b",
   "metadata": {},
   "outputs": [
    {
     "data": {
      "text/plain": [
       "64.0"
      ]
     },
     "execution_count": 31,
     "metadata": {},
     "output_type": "execute_result"
    }
   ],
   "source": [
    "# mean value\n",
    "ard.mean()"
   ]
  },
  {
   "cell_type": "code",
   "execution_count": 33,
   "id": "8c5fb824",
   "metadata": {},
   "outputs": [
    {
     "data": {
      "text/plain": [
       "180.61653671060503"
      ]
     },
     "execution_count": 33,
     "metadata": {},
     "output_type": "execute_result"
    }
   ],
   "source": [
    "# standard deviation value\n",
    "ard.std()"
   ]
  },
  {
   "cell_type": "code",
   "execution_count": 36,
   "id": "604aee39",
   "metadata": {},
   "outputs": [],
   "source": [
    "# sorting array\n",
    "ard.sort()"
   ]
  },
  {
   "cell_type": "code",
   "execution_count": 37,
   "id": "fffbc443",
   "metadata": {},
   "outputs": [
    {
     "data": {
      "text/plain": [
       "array([-110,  -45,  -12,    1,    2,    4,    6,    7,    8,    9,  342,\n",
       "        556])"
      ]
     },
     "execution_count": 37,
     "metadata": {},
     "output_type": "execute_result"
    }
   ],
   "source": [
    "ard"
   ]
  },
  {
   "cell_type": "markdown",
   "id": "767d8e36",
   "metadata": {},
   "source": [
    "## Rounding Function"
   ]
  },
  {
   "cell_type": "code",
   "execution_count": 38,
   "id": "8b54c3a8",
   "metadata": {},
   "outputs": [],
   "source": [
    "ar = np.array([0.4,0.8,0.000035343,1.565677,3.5,88.97567463423,-1.54656778])"
   ]
  },
  {
   "cell_type": "code",
   "execution_count": 39,
   "id": "31c1ea49",
   "metadata": {},
   "outputs": [
    {
     "data": {
      "text/plain": [
       "array([ 4.00000000e-01,  8.00000000e-01,  3.53430000e-05,  1.56567700e+00,\n",
       "        3.50000000e+00,  8.89756746e+01, -1.54656778e+00])"
      ]
     },
     "execution_count": 39,
     "metadata": {},
     "output_type": "execute_result"
    }
   ],
   "source": [
    "ar"
   ]
  },
  {
   "cell_type": "code",
   "execution_count": 42,
   "id": "1a50d192",
   "metadata": {},
   "outputs": [
    {
     "data": {
      "text/plain": [
       "array([ 0.4   ,  0.8   ,  0.    ,  1.5657,  3.5   , 88.9757, -1.5466])"
      ]
     },
     "execution_count": 42,
     "metadata": {},
     "output_type": "execute_result"
    }
   ],
   "source": [
    "# rounding to 1st decimal place\n",
    "ar.round(4)"
   ]
  },
  {
   "cell_type": "code",
   "execution_count": 41,
   "id": "18200751",
   "metadata": {},
   "outputs": [
    {
     "data": {
      "text/plain": [
       "1.345"
      ]
     },
     "execution_count": 41,
     "metadata": {},
     "output_type": "execute_result"
    }
   ],
   "source": [
    "# rounding a number\n",
    "np.round(1.34546567687, 3)"
   ]
  },
  {
   "cell_type": "code",
   "execution_count": 43,
   "id": "b5574039",
   "metadata": {},
   "outputs": [
    {
     "data": {
      "text/plain": [
       "array([ 0.,  0.,  0.,  1.,  3., 88., -2.])"
      ]
     },
     "execution_count": 43,
     "metadata": {},
     "output_type": "execute_result"
    }
   ],
   "source": [
    "# Floor: Rounding to nearest lower integer\n",
    "np.floor(ar)"
   ]
  },
  {
   "cell_type": "code",
   "execution_count": 44,
   "id": "ee245e8a",
   "metadata": {},
   "outputs": [
    {
     "data": {
      "text/plain": [
       "array([ 1.,  1.,  1.,  2.,  4., 89., -1.])"
      ]
     },
     "execution_count": 44,
     "metadata": {},
     "output_type": "execute_result"
    }
   ],
   "source": [
    "# Ceil: ceil() function rounds off decimal to nearest upper integer.\n",
    "np.ceil(ar)"
   ]
  },
  {
   "cell_type": "markdown",
   "id": "e5339b54",
   "metadata": {},
   "source": [
    "## Trigonometric Functions"
   ]
  },
  {
   "cell_type": "code",
   "execution_count": 47,
   "id": "250fbda2",
   "metadata": {},
   "outputs": [
    {
     "data": {
      "text/plain": [
       "array([ 1,  2,  3, 44,  5])"
      ]
     },
     "execution_count": 47,
     "metadata": {},
     "output_type": "execute_result"
    }
   ],
   "source": [
    "ara    # values are taken in radian"
   ]
  },
  {
   "cell_type": "code",
   "execution_count": 48,
   "id": "2f6f2d98",
   "metadata": {},
   "outputs": [
    {
     "data": {
      "text/plain": [
       "array([ 0.84147098,  0.90929743,  0.14112001,  0.01770193, -0.95892427])"
      ]
     },
     "execution_count": 48,
     "metadata": {},
     "output_type": "execute_result"
    }
   ],
   "source": [
    "np.sin(ara)"
   ]
  },
  {
   "cell_type": "code",
   "execution_count": 50,
   "id": "cb373cb4",
   "metadata": {},
   "outputs": [
    {
     "data": {
      "text/plain": [
       "1.0"
      ]
     },
     "execution_count": 50,
     "metadata": {},
     "output_type": "execute_result"
    }
   ],
   "source": [
    "np.sin(np.pi/2)    # sin(pi/2) is 1"
   ]
  },
  {
   "cell_type": "code",
   "execution_count": 51,
   "id": "9e91e637",
   "metadata": {},
   "outputs": [
    {
     "data": {
      "text/plain": [
       "0.0"
      ]
     },
     "execution_count": 51,
     "metadata": {},
     "output_type": "execute_result"
    }
   ],
   "source": [
    "np.sin(0)"
   ]
  },
  {
   "cell_type": "code",
   "execution_count": 52,
   "id": "16a43067",
   "metadata": {},
   "outputs": [
    {
     "data": {
      "text/plain": [
       "1.0"
      ]
     },
     "execution_count": 52,
     "metadata": {},
     "output_type": "execute_result"
    }
   ],
   "source": [
    "np.cos(0)"
   ]
  },
  {
   "cell_type": "code",
   "execution_count": 53,
   "id": "7f508936",
   "metadata": {},
   "outputs": [
    {
     "data": {
      "text/plain": [
       "6.123233995736766e-17"
      ]
     },
     "execution_count": 53,
     "metadata": {},
     "output_type": "execute_result"
    }
   ],
   "source": [
    "np.cos(np.pi/2)"
   ]
  },
  {
   "cell_type": "code",
   "execution_count": 54,
   "id": "a2909c34",
   "metadata": {},
   "outputs": [
    {
     "data": {
      "text/plain": [
       "180.0"
      ]
     },
     "execution_count": 54,
     "metadata": {},
     "output_type": "execute_result"
    }
   ],
   "source": [
    "# converting to degrees\n",
    "np.degrees(np.pi)"
   ]
  },
  {
   "cell_type": "code",
   "execution_count": 55,
   "id": "6a43a2de",
   "metadata": {},
   "outputs": [
    {
     "data": {
      "text/plain": [
       "90.0"
      ]
     },
     "execution_count": 55,
     "metadata": {},
     "output_type": "execute_result"
    }
   ],
   "source": [
    "# inverse sin\n",
    "\n",
    "np.degrees(np.arcsin(1))"
   ]
  },
  {
   "cell_type": "code",
   "execution_count": 56,
   "id": "b257cf25",
   "metadata": {},
   "outputs": [
    {
     "data": {
      "text/plain": [
       "5.0"
      ]
     },
     "execution_count": 56,
     "metadata": {},
     "output_type": "execute_result"
    }
   ],
   "source": [
    "# hypot function that takes the base and perpendicular values and produces hypotenuse\n",
    "\n",
    "np.hypot(3,4)"
   ]
  },
  {
   "cell_type": "markdown",
   "id": "aa2afb33",
   "metadata": {},
   "source": [
    "## Logarithmic and Exponential Functions"
   ]
  },
  {
   "cell_type": "code",
   "execution_count": 59,
   "id": "c8714935",
   "metadata": {},
   "outputs": [
    {
     "data": {
      "text/plain": [
       "2.718281828459045"
      ]
     },
     "execution_count": 59,
     "metadata": {},
     "output_type": "execute_result"
    }
   ],
   "source": [
    "np.exp(1)     # gives e^1"
   ]
  },
  {
   "cell_type": "code",
   "execution_count": 60,
   "id": "e1084241",
   "metadata": {},
   "outputs": [
    {
     "data": {
      "text/plain": [
       "7.38905609893065"
      ]
     },
     "execution_count": 60,
     "metadata": {},
     "output_type": "execute_result"
    }
   ],
   "source": [
    "np.exp(2)"
   ]
  },
  {
   "cell_type": "code",
   "execution_count": 61,
   "id": "e30fa6c8",
   "metadata": {},
   "outputs": [
    {
     "data": {
      "text/plain": [
       "array([  2.71828183,   7.3890561 ,  54.59815003, 403.42879349])"
      ]
     },
     "execution_count": 61,
     "metadata": {},
     "output_type": "execute_result"
    }
   ],
   "source": [
    "np.exp([1,2,4,6])"
   ]
  },
  {
   "cell_type": "code",
   "execution_count": 62,
   "id": "e05d6061",
   "metadata": {},
   "outputs": [
    {
     "data": {
      "text/plain": [
       "0.0"
      ]
     },
     "execution_count": 62,
     "metadata": {},
     "output_type": "execute_result"
    }
   ],
   "source": [
    "# Natural log - log base e\n",
    "np.log(1)"
   ]
  },
  {
   "cell_type": "code",
   "execution_count": 64,
   "id": "3066c240",
   "metadata": {},
   "outputs": [
    {
     "data": {
      "text/plain": [
       "1.0"
      ]
     },
     "execution_count": 64,
     "metadata": {},
     "output_type": "execute_result"
    }
   ],
   "source": [
    "np.log(np.exp(1))      # log base e (e)"
   ]
  },
  {
   "cell_type": "code",
   "execution_count": 65,
   "id": "5673823c",
   "metadata": {},
   "outputs": [
    {
     "data": {
      "text/plain": [
       "1.0"
      ]
     },
     "execution_count": 65,
     "metadata": {},
     "output_type": "execute_result"
    }
   ],
   "source": [
    "np.log10(10)         # log base 10 (10) "
   ]
  },
  {
   "cell_type": "code",
   "execution_count": 66,
   "id": "15e39994",
   "metadata": {},
   "outputs": [
    {
     "data": {
      "text/plain": [
       "2.0"
      ]
     },
     "execution_count": 66,
     "metadata": {},
     "output_type": "execute_result"
    }
   ],
   "source": [
    "np.log10(100)       # log base 10 (100)"
   ]
  },
  {
   "cell_type": "code",
   "execution_count": 68,
   "id": "ed264ba7",
   "metadata": {},
   "outputs": [
    {
     "data": {
      "text/plain": [
       "1.0"
      ]
     },
     "execution_count": 68,
     "metadata": {},
     "output_type": "execute_result"
    }
   ],
   "source": [
    "np.log2(2)         # log base 2 (2)"
   ]
  },
  {
   "cell_type": "markdown",
   "id": "1f766794",
   "metadata": {},
   "source": [
    "# Matrix Multiplication : use @\n",
    "- a*b : a is of m X n and b is of n X j, then product is of m X j\n",
    "\n",
    "- condition for multiplication: no. columns of a and no. of rows of b should be equal "
   ]
  },
  {
   "cell_type": "code",
   "execution_count": 69,
   "id": "82261b8e",
   "metadata": {},
   "outputs": [],
   "source": [
    "ar = np.array([[2,3,4,5],[4,5,6,7]])"
   ]
  },
  {
   "cell_type": "code",
   "execution_count": 70,
   "id": "4146a27d",
   "metadata": {},
   "outputs": [
    {
     "data": {
      "text/plain": [
       "array([[2, 3, 4, 5],\n",
       "       [4, 5, 6, 7]])"
      ]
     },
     "execution_count": 70,
     "metadata": {},
     "output_type": "execute_result"
    }
   ],
   "source": [
    "ar"
   ]
  },
  {
   "cell_type": "code",
   "execution_count": 71,
   "id": "8b84ffe2",
   "metadata": {},
   "outputs": [
    {
     "data": {
      "text/plain": [
       "array([[1, 2],\n",
       "       [4, 5],\n",
       "       [6, 7],\n",
       "       [8, 9]])"
      ]
     },
     "execution_count": 71,
     "metadata": {},
     "output_type": "execute_result"
    }
   ],
   "source": [
    "art = np.array([[1,2],[4,5],[6,7],[8,9]])\n",
    "art"
   ]
  },
  {
   "cell_type": "code",
   "execution_count": 72,
   "id": "1ec5b7a8",
   "metadata": {},
   "outputs": [
    {
     "data": {
      "text/plain": [
       "array([[ 78,  92],\n",
       "       [116, 138]])"
      ]
     },
     "execution_count": 72,
     "metadata": {},
     "output_type": "execute_result"
    }
   ],
   "source": [
    "# Matrix Multiplication\n",
    "\n",
    "ar@art"
   ]
  },
  {
   "cell_type": "code",
   "execution_count": null,
   "id": "6c7429bc",
   "metadata": {},
   "outputs": [],
   "source": []
  }
 ],
 "metadata": {
  "kernelspec": {
   "display_name": "Python 3 (ipykernel)",
   "language": "python",
   "name": "python3"
  },
  "language_info": {
   "codemirror_mode": {
    "name": "ipython",
    "version": 3
   },
   "file_extension": ".py",
   "mimetype": "text/x-python",
   "name": "python",
   "nbconvert_exporter": "python",
   "pygments_lexer": "ipython3",
   "version": "3.9.13"
  }
 },
 "nbformat": 4,
 "nbformat_minor": 5
}
