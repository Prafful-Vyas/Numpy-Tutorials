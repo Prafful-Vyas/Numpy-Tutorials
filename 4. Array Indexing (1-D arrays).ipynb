{
 "cells": [
  {
   "cell_type": "markdown",
   "id": "ad43f515",
   "metadata": {},
   "source": [
    "### Array Indexing (1 D Arrays)\n",
    "- Accessing array elements\n",
    "- The indexes starts with 0 just like lists, meaning that first element has index 0 and second has index 1"
   ]
  },
  {
   "cell_type": "code",
   "execution_count": 1,
   "id": "6c8f7c6c",
   "metadata": {},
   "outputs": [],
   "source": [
    "import numpy as np"
   ]
  },
  {
   "cell_type": "code",
   "execution_count": 2,
   "id": "3b7e51a3",
   "metadata": {},
   "outputs": [],
   "source": [
    "array = np.array([1,2,3])\n",
    "\n",
    "# bcoz only integers are present, type of element is int"
   ]
  },
  {
   "cell_type": "code",
   "execution_count": 3,
   "id": "3ab94460",
   "metadata": {},
   "outputs": [
    {
     "data": {
      "text/plain": [
       "1"
      ]
     },
     "execution_count": 3,
     "metadata": {},
     "output_type": "execute_result"
    }
   ],
   "source": [
    "array[0]"
   ]
  },
  {
   "cell_type": "code",
   "execution_count": 9,
   "id": "23dc55c0",
   "metadata": {},
   "outputs": [
    {
     "data": {
      "text/plain": [
       "numpy.int32"
      ]
     },
     "execution_count": 9,
     "metadata": {},
     "output_type": "execute_result"
    }
   ],
   "source": [
    "type(array[0])"
   ]
  },
  {
   "cell_type": "code",
   "execution_count": 11,
   "id": "ec5d9724",
   "metadata": {},
   "outputs": [],
   "source": [
    "arr = np.array([1,23,45,67,'pfs','jaiyesh','last'])\n",
    "\n",
    "# string elements are also present, thats why type of element 1 is string\n",
    "# if float and int elements would be there, type of int elements will be float"
   ]
  },
  {
   "cell_type": "code",
   "execution_count": 12,
   "id": "b3b121c1",
   "metadata": {},
   "outputs": [
    {
     "data": {
      "text/plain": [
       "'1'"
      ]
     },
     "execution_count": 12,
     "metadata": {},
     "output_type": "execute_result"
    }
   ],
   "source": [
    "arr[0]"
   ]
  },
  {
   "cell_type": "code",
   "execution_count": 13,
   "id": "152743da",
   "metadata": {},
   "outputs": [
    {
     "data": {
      "text/plain": [
       "numpy.str_"
      ]
     },
     "execution_count": 13,
     "metadata": {},
     "output_type": "execute_result"
    }
   ],
   "source": [
    "type(arr[0])"
   ]
  },
  {
   "cell_type": "code",
   "execution_count": 14,
   "id": "4bc6ce20",
   "metadata": {},
   "outputs": [
    {
     "data": {
      "text/plain": [
       "'last'"
      ]
     },
     "execution_count": 14,
     "metadata": {},
     "output_type": "execute_result"
    }
   ],
   "source": [
    "# last element has index -1 and {len() - 1}\n",
    "\n",
    "arr[6]"
   ]
  },
  {
   "cell_type": "code",
   "execution_count": 15,
   "id": "bcffdf78",
   "metadata": {},
   "outputs": [
    {
     "data": {
      "text/plain": [
       "'last'"
      ]
     },
     "execution_count": 15,
     "metadata": {},
     "output_type": "execute_result"
    }
   ],
   "source": [
    "arr[-1]"
   ]
  },
  {
   "cell_type": "code",
   "execution_count": 16,
   "id": "f510d2b8",
   "metadata": {},
   "outputs": [
    {
     "data": {
      "text/plain": [
       "'45'"
      ]
     },
     "execution_count": 16,
     "metadata": {},
     "output_type": "execute_result"
    }
   ],
   "source": [
    "# accessing third element with positive and negative index\n",
    "arr[2]"
   ]
  },
  {
   "cell_type": "code",
   "execution_count": 17,
   "id": "0ff51d7e",
   "metadata": {},
   "outputs": [
    {
     "data": {
      "text/plain": [
       "'45'"
      ]
     },
     "execution_count": 17,
     "metadata": {},
     "output_type": "execute_result"
    }
   ],
   "source": [
    "arr[-5]"
   ]
  },
  {
   "cell_type": "code",
   "execution_count": 18,
   "id": "a4323d6d",
   "metadata": {},
   "outputs": [
    {
     "data": {
      "text/plain": [
       "5"
      ]
     },
     "execution_count": 18,
     "metadata": {},
     "output_type": "execute_result"
    }
   ],
   "source": [
    "array[2] + array[1]\n",
    "# integer addition"
   ]
  },
  {
   "cell_type": "code",
   "execution_count": 20,
   "id": "9ed4173c",
   "metadata": {},
   "outputs": [
    {
     "data": {
      "text/plain": [
       "'last1'"
      ]
     },
     "execution_count": 20,
     "metadata": {},
     "output_type": "execute_result"
    }
   ],
   "source": [
    "arr[-1] + arr[0]\n",
    "# string concatenation"
   ]
  },
  {
   "cell_type": "code",
   "execution_count": null,
   "id": "cb334ad0",
   "metadata": {},
   "outputs": [],
   "source": []
  }
 ],
 "metadata": {
  "kernelspec": {
   "display_name": "Python 3 (ipykernel)",
   "language": "python",
   "name": "python3"
  },
  "language_info": {
   "codemirror_mode": {
    "name": "ipython",
    "version": 3
   },
   "file_extension": ".py",
   "mimetype": "text/x-python",
   "name": "python",
   "nbconvert_exporter": "python",
   "pygments_lexer": "ipython3",
   "version": "3.9.13"
  }
 },
 "nbformat": 4,
 "nbformat_minor": 5
}
