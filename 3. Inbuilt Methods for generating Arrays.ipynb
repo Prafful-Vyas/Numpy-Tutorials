{
 "cells": [
  {
   "cell_type": "markdown",
   "id": "88a73db5",
   "metadata": {},
   "source": [
    "## Using inbuilt methods for generating arrays\n",
    "\n",
    "## Arange: Return an array with evenly spaced elements in the given elements in the given interval\n",
    "- np.arange(start,stop,step)"
   ]
  },
  {
   "cell_type": "code",
   "execution_count": 2,
   "id": "4caa0ce3",
   "metadata": {},
   "outputs": [],
   "source": [
    "import numpy as np"
   ]
  },
  {
   "cell_type": "code",
   "execution_count": 3,
   "id": "48da7421",
   "metadata": {},
   "outputs": [],
   "source": [
    "# make an array of pressures ranging from 0 to 5000 psi with a step size of 500 psi\n",
    "pressures = np.arange(0,5500,500)"
   ]
  },
  {
   "cell_type": "code",
   "execution_count": 4,
   "id": "dd0a0797",
   "metadata": {},
   "outputs": [
    {
     "data": {
      "text/plain": [
       "array([   0,  500, 1000, 1500, 2000, 2500, 3000, 3500, 4000, 4500, 5000])"
      ]
     },
     "execution_count": 4,
     "metadata": {},
     "output_type": "execute_result"
    }
   ],
   "source": [
    "pressures"
   ]
  },
  {
   "cell_type": "code",
   "execution_count": 5,
   "id": "c490545b",
   "metadata": {},
   "outputs": [
    {
     "data": {
      "text/plain": [
       "1"
      ]
     },
     "execution_count": 5,
     "metadata": {},
     "output_type": "execute_result"
    }
   ],
   "source": [
    "pressures.ndim"
   ]
  },
  {
   "cell_type": "markdown",
   "id": "6aea7947",
   "metadata": {},
   "source": [
    "## Linspace: Creates linearly spaced array\n",
    "- Evenly spaced numbers over a specified interval\n",
    "- Creating n datapoints between two points"
   ]
  },
  {
   "cell_type": "code",
   "execution_count": 7,
   "id": "305a8c22",
   "metadata": {},
   "outputs": [
    {
     "data": {
      "text/plain": [
       "array([0.        , 0.01010101, 0.02020202, 0.03030303, 0.04040404,\n",
       "       0.05050505, 0.06060606, 0.07070707, 0.08080808, 0.09090909,\n",
       "       0.1010101 , 0.11111111, 0.12121212, 0.13131313, 0.14141414,\n",
       "       0.15151515, 0.16161616, 0.17171717, 0.18181818, 0.19191919,\n",
       "       0.2020202 , 0.21212121, 0.22222222, 0.23232323, 0.24242424,\n",
       "       0.25252525, 0.26262626, 0.27272727, 0.28282828, 0.29292929,\n",
       "       0.3030303 , 0.31313131, 0.32323232, 0.33333333, 0.34343434,\n",
       "       0.35353535, 0.36363636, 0.37373737, 0.38383838, 0.39393939,\n",
       "       0.4040404 , 0.41414141, 0.42424242, 0.43434343, 0.44444444,\n",
       "       0.45454545, 0.46464646, 0.47474747, 0.48484848, 0.49494949,\n",
       "       0.50505051, 0.51515152, 0.52525253, 0.53535354, 0.54545455,\n",
       "       0.55555556, 0.56565657, 0.57575758, 0.58585859, 0.5959596 ,\n",
       "       0.60606061, 0.61616162, 0.62626263, 0.63636364, 0.64646465,\n",
       "       0.65656566, 0.66666667, 0.67676768, 0.68686869, 0.6969697 ,\n",
       "       0.70707071, 0.71717172, 0.72727273, 0.73737374, 0.74747475,\n",
       "       0.75757576, 0.76767677, 0.77777778, 0.78787879, 0.7979798 ,\n",
       "       0.80808081, 0.81818182, 0.82828283, 0.83838384, 0.84848485,\n",
       "       0.85858586, 0.86868687, 0.87878788, 0.88888889, 0.8989899 ,\n",
       "       0.90909091, 0.91919192, 0.92929293, 0.93939394, 0.94949495,\n",
       "       0.95959596, 0.96969697, 0.97979798, 0.98989899, 1.        ])"
      ]
     },
     "execution_count": 7,
     "metadata": {},
     "output_type": "execute_result"
    }
   ],
   "source": [
    "# Create saturation array from 0 to 1 having 100 points\n",
    "\n",
    "saturations = np.linspace(0,1,100)\n",
    "saturations\n",
    "\n",
    "# 0 and 1 both are present in our array\n",
    "# this is 1-D array"
   ]
  },
  {
   "cell_type": "code",
   "execution_count": 8,
   "id": "3c706d39",
   "metadata": {},
   "outputs": [
    {
     "data": {
      "text/plain": [
       "(100,)"
      ]
     },
     "execution_count": 8,
     "metadata": {},
     "output_type": "execute_result"
    }
   ],
   "source": [
    "saturations.shape"
   ]
  },
  {
   "cell_type": "markdown",
   "id": "2ad0e5f6",
   "metadata": {},
   "source": [
    "## zeroes, ones and identity matrixes\n",
    "- useful in reservoir simulation"
   ]
  },
  {
   "cell_type": "code",
   "execution_count": 14,
   "id": "d26105ef",
   "metadata": {},
   "outputs": [
    {
     "data": {
      "text/plain": [
       "array([[0., 0., 0., ..., 0., 0., 0.],\n",
       "       [0., 0., 0., ..., 0., 0., 0.],\n",
       "       [0., 0., 0., ..., 0., 0., 0.],\n",
       "       ...,\n",
       "       [0., 0., 0., ..., 0., 0., 0.],\n",
       "       [0., 0., 0., ..., 0., 0., 0.],\n",
       "       [0., 0., 0., ..., 0., 0., 0.]])"
      ]
     },
     "execution_count": 14,
     "metadata": {},
     "output_type": "execute_result"
    }
   ],
   "source": [
    "# zeroes = place holder, useful in reservoir, placeholder for values of properties of reservoir\n",
    "zero = np.zeros((50,50))\n",
    "zero\n",
    "\n",
    "# creates 50x50 array of zeros"
   ]
  },
  {
   "cell_type": "code",
   "execution_count": 15,
   "id": "1c44f731",
   "metadata": {},
   "outputs": [],
   "source": [
    "# adding value 30 at (2,3)\n",
    "zero[1][2] = 30"
   ]
  },
  {
   "cell_type": "code",
   "execution_count": 16,
   "id": "7a04f9d5",
   "metadata": {},
   "outputs": [
    {
     "data": {
      "text/plain": [
       "array([[ 0.,  0.,  0., ...,  0.,  0.,  0.],\n",
       "       [ 0.,  0., 30., ...,  0.,  0.,  0.],\n",
       "       [ 0.,  0.,  0., ...,  0.,  0.,  0.],\n",
       "       ...,\n",
       "       [ 0.,  0.,  0., ...,  0.,  0.,  0.],\n",
       "       [ 0.,  0.,  0., ...,  0.,  0.,  0.],\n",
       "       [ 0.,  0.,  0., ...,  0.,  0.,  0.]])"
      ]
     },
     "execution_count": 16,
     "metadata": {},
     "output_type": "execute_result"
    }
   ],
   "source": [
    "zero"
   ]
  },
  {
   "cell_type": "code",
   "execution_count": 20,
   "id": "1dc5ba86",
   "metadata": {},
   "outputs": [
    {
     "data": {
      "text/plain": [
       "array([[1., 1., 1., ..., 1., 1., 1.],\n",
       "       [1., 1., 1., ..., 1., 1., 1.],\n",
       "       [1., 1., 1., ..., 1., 1., 1.],\n",
       "       ...,\n",
       "       [1., 1., 1., ..., 1., 1., 1.],\n",
       "       [1., 1., 1., ..., 1., 1., 1.],\n",
       "       [1., 1., 1., ..., 1., 1., 1.]])"
      ]
     },
     "execution_count": 20,
     "metadata": {},
     "output_type": "execute_result"
    }
   ],
   "source": [
    "# ones - matrix/array of 1s\n",
    "p = np.ones((50,30))\n",
    "p"
   ]
  },
  {
   "cell_type": "code",
   "execution_count": 18,
   "id": "9703ab78",
   "metadata": {},
   "outputs": [
    {
     "data": {
      "text/plain": [
       "array([[500., 500., 500., ..., 500., 500., 500.],\n",
       "       [500., 500., 500., ..., 500., 500., 500.],\n",
       "       [500., 500., 500., ..., 500., 500., 500.],\n",
       "       ...,\n",
       "       [500., 500., 500., ..., 500., 500., 500.],\n",
       "       [500., 500., 500., ..., 500., 500., 500.],\n",
       "       [500., 500., 500., ..., 500., 500., 500.]])"
      ]
     },
     "execution_count": 18,
     "metadata": {},
     "output_type": "execute_result"
    }
   ],
   "source": [
    "# multiply by 500\n",
    "pi = 500\n",
    "p*pi"
   ]
  },
  {
   "cell_type": "code",
   "execution_count": 21,
   "id": "656be700",
   "metadata": {},
   "outputs": [
    {
     "data": {
      "text/plain": [
       "array([[1., 0., 0., 0.],\n",
       "       [0., 1., 0., 0.],\n",
       "       [0., 0., 1., 0.],\n",
       "       [0., 0., 0., 1.]])"
      ]
     },
     "execution_count": 21,
     "metadata": {},
     "output_type": "execute_result"
    }
   ],
   "source": [
    "# eye: Creates an identity matrix\n",
    "i = np.eye(4)\n",
    "i\n",
    "# here we have to give only one input bcoz identity matrix is always square"
   ]
  },
  {
   "cell_type": "code",
   "execution_count": null,
   "id": "bc4a2765",
   "metadata": {},
   "outputs": [],
   "source": []
  }
 ],
 "metadata": {
  "kernelspec": {
   "display_name": "Python 3 (ipykernel)",
   "language": "python",
   "name": "python3"
  },
  "language_info": {
   "codemirror_mode": {
    "name": "ipython",
    "version": 3
   },
   "file_extension": ".py",
   "mimetype": "text/x-python",
   "name": "python",
   "nbconvert_exporter": "python",
   "pygments_lexer": "ipython3",
   "version": "3.9.13"
  }
 },
 "nbformat": 4,
 "nbformat_minor": 5
}
