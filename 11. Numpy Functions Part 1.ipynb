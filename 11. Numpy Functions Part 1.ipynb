{
 "cells": [
  {
   "cell_type": "markdown",
   "id": "b9c43a79",
   "metadata": {},
   "source": [
    "# Numpy Functions\n",
    "\n",
    "- Numpy contains a large number of various mathematical functions\n",
    "    - Trigonometric\n",
    "    - Arithmetic\n",
    "    - Exponential, complex number handling etc."
   ]
  },
  {
   "cell_type": "code",
   "execution_count": 1,
   "id": "ffb43954",
   "metadata": {},
   "outputs": [],
   "source": [
    "import numpy as np"
   ]
  },
  {
   "cell_type": "markdown",
   "id": "fb19de96",
   "metadata": {},
   "source": [
    "## Arithmetic Functions:"
   ]
  },
  {
   "cell_type": "code",
   "execution_count": 3,
   "id": "91e7d28b",
   "metadata": {},
   "outputs": [
    {
     "data": {
      "text/plain": [
       "[1, 2, 3, 44, 5, 4, 5, 6, 7, 8]"
      ]
     },
     "execution_count": 3,
     "metadata": {},
     "output_type": "execute_result"
    }
   ],
   "source": [
    "# Addition\n",
    "a = [1,2,3,44,5]\n",
    "b = [4,5,6,7,8]\n",
    "\n",
    "c = a+b\n",
    "c    # lists get concatenated"
   ]
  },
  {
   "cell_type": "code",
   "execution_count": 4,
   "id": "c1e4f362",
   "metadata": {},
   "outputs": [
    {
     "data": {
      "text/plain": [
       "[5, 7, 9, 51, 13]"
      ]
     },
     "execution_count": 4,
     "metadata": {},
     "output_type": "execute_result"
    }
   ],
   "source": [
    "c = []\n",
    "for i,j in zip(a,b):\n",
    "    c.append(i+j)\n",
    "    \n",
    "c"
   ]
  },
  {
   "cell_type": "code",
   "execution_count": 5,
   "id": "a448fff2",
   "metadata": {},
   "outputs": [
    {
     "data": {
      "text/plain": [
       "array([ 5,  7,  9, 51, 13])"
      ]
     },
     "execution_count": 5,
     "metadata": {},
     "output_type": "execute_result"
    }
   ],
   "source": [
    "# addition using numpy\n",
    "\n",
    "ara = np.array(a)\n",
    "arb = np.array(b)\n",
    "arc = ara + arb\n",
    "arc"
   ]
  },
  {
   "cell_type": "code",
   "execution_count": 6,
   "id": "9f160790",
   "metadata": {},
   "outputs": [],
   "source": [
    "# a*b gives error"
   ]
  },
  {
   "cell_type": "code",
   "execution_count": 7,
   "id": "e7f69541",
   "metadata": {},
   "outputs": [
    {
     "data": {
      "text/plain": [
       "array([  4,  10,  18, 308,  40])"
      ]
     },
     "execution_count": 7,
     "metadata": {},
     "output_type": "execute_result"
    }
   ],
   "source": [
    "# multiplication\n",
    "ara*arb"
   ]
  },
  {
   "cell_type": "code",
   "execution_count": 8,
   "id": "229f97fe",
   "metadata": {},
   "outputs": [
    {
     "data": {
      "text/plain": [
       "[4, 10, 18, 308, 40]"
      ]
     },
     "execution_count": 8,
     "metadata": {},
     "output_type": "execute_result"
    }
   ],
   "source": [
    "list(ara*arb)"
   ]
  },
  {
   "cell_type": "code",
   "execution_count": 9,
   "id": "52803388",
   "metadata": {},
   "outputs": [],
   "source": [
    "# a/b gives error"
   ]
  },
  {
   "cell_type": "code",
   "execution_count": 10,
   "id": "e0a5027b",
   "metadata": {},
   "outputs": [
    {
     "data": {
      "text/plain": [
       "array([0.25      , 0.4       , 0.5       , 6.28571429, 0.625     ])"
      ]
     },
     "execution_count": 10,
     "metadata": {},
     "output_type": "execute_result"
    }
   ],
   "source": [
    "# division\n",
    "ara/arb"
   ]
  },
  {
   "cell_type": "code",
   "execution_count": 11,
   "id": "cb5d28c7",
   "metadata": {},
   "outputs": [],
   "source": [
    "# a**b gives error"
   ]
  },
  {
   "cell_type": "code",
   "execution_count": 15,
   "id": "7eecd9c4",
   "metadata": {},
   "outputs": [
    {
     "data": {
      "text/plain": [
       "array([         1,         32,        729, 1450229760,     390625],\n",
       "      dtype=int32)"
      ]
     },
     "execution_count": 15,
     "metadata": {},
     "output_type": "execute_result"
    }
   ],
   "source": [
    "# power function\n",
    "ara**arb"
   ]
  },
  {
   "cell_type": "code",
   "execution_count": 16,
   "id": "c70e603c",
   "metadata": {},
   "outputs": [
    {
     "data": {
      "text/plain": [
       "array([ 1,  2,  3, 44,  5])"
      ]
     },
     "execution_count": 16,
     "metadata": {},
     "output_type": "execute_result"
    }
   ],
   "source": [
    "ara"
   ]
  },
  {
   "cell_type": "code",
   "execution_count": 17,
   "id": "52fe3ba2",
   "metadata": {},
   "outputs": [
    {
     "data": {
      "text/plain": [
       "array([4, 5, 6, 7, 8])"
      ]
     },
     "execution_count": 17,
     "metadata": {},
     "output_type": "execute_result"
    }
   ],
   "source": [
    "arb"
   ]
  },
  {
   "cell_type": "markdown",
   "id": "aff1537f",
   "metadata": {},
   "source": [
    "## operation on arrays of different shapes will always give error"
   ]
  },
  {
   "cell_type": "code",
   "execution_count": 19,
   "id": "e4a8c2fa",
   "metadata": {},
   "outputs": [],
   "source": [
    "ard = np.array([1,2,3])"
   ]
  },
  {
   "cell_type": "code",
   "execution_count": 20,
   "id": "e1ad84ab",
   "metadata": {},
   "outputs": [],
   "source": [
    "# ara*ard will give error"
   ]
  },
  {
   "cell_type": "code",
   "execution_count": 21,
   "id": "48d7cee6",
   "metadata": {},
   "outputs": [
    {
     "data": {
      "text/plain": [
       "array([ 2,  4,  6, 88, 10])"
      ]
     },
     "execution_count": 21,
     "metadata": {},
     "output_type": "execute_result"
    }
   ],
   "source": [
    "ara*2"
   ]
  },
  {
   "cell_type": "code",
   "execution_count": 22,
   "id": "5e410ff6",
   "metadata": {},
   "outputs": [
    {
     "data": {
      "text/plain": [
       "17"
      ]
     },
     "execution_count": 22,
     "metadata": {},
     "output_type": "execute_result"
    }
   ],
   "source": [
    "# Quotient\n",
    "34//2"
   ]
  },
  {
   "cell_type": "code",
   "execution_count": 23,
   "id": "5154e31d",
   "metadata": {},
   "outputs": [
    {
     "data": {
      "text/plain": [
       "17"
      ]
     },
     "execution_count": 23,
     "metadata": {},
     "output_type": "execute_result"
    }
   ],
   "source": [
    "35//2"
   ]
  },
  {
   "cell_type": "code",
   "execution_count": 24,
   "id": "53d97148",
   "metadata": {},
   "outputs": [
    {
     "data": {
      "text/plain": [
       "array([ 1,  2,  3, 44,  5])"
      ]
     },
     "execution_count": 24,
     "metadata": {},
     "output_type": "execute_result"
    }
   ],
   "source": [
    "ara"
   ]
  },
  {
   "cell_type": "code",
   "execution_count": 26,
   "id": "5aea4c3f",
   "metadata": {},
   "outputs": [
    {
     "data": {
      "text/plain": [
       "array([ 0,  1,  1, 22,  2], dtype=int32)"
      ]
     },
     "execution_count": 26,
     "metadata": {},
     "output_type": "execute_result"
    }
   ],
   "source": [
    "ara//2    # gives quotient on array with 2"
   ]
  },
  {
   "cell_type": "code",
   "execution_count": 28,
   "id": "72183fa7",
   "metadata": {},
   "outputs": [
    {
     "data": {
      "text/plain": [
       "array([1, 0, 1, 0, 1], dtype=int32)"
      ]
     },
     "execution_count": 28,
     "metadata": {},
     "output_type": "execute_result"
    }
   ],
   "source": [
    "ara%2    # gives remainder array"
   ]
  },
  {
   "cell_type": "code",
   "execution_count": 29,
   "id": "ea7ab8cb",
   "metadata": {},
   "outputs": [],
   "source": [
    "# a//2 error\n",
    "# a%2 error"
   ]
  },
  {
   "cell_type": "code",
   "execution_count": 30,
   "id": "be30edc6",
   "metadata": {},
   "outputs": [
    {
     "data": {
      "text/plain": [
       "array([  1,   5,   6,  90, 345,  76])"
      ]
     },
     "execution_count": 30,
     "metadata": {},
     "output_type": "execute_result"
    }
   ],
   "source": [
    "# absolute values\n",
    "\n",
    "ar = np.array([-1,5,-6,-90,345,-76])\n",
    "np.abs(ar)"
   ]
  },
  {
   "cell_type": "code",
   "execution_count": 31,
   "id": "f610e4b7",
   "metadata": {},
   "outputs": [
    {
     "data": {
      "text/plain": [
       "array([ 1,  2,  3, 44,  5])"
      ]
     },
     "execution_count": 31,
     "metadata": {},
     "output_type": "execute_result"
    }
   ],
   "source": [
    "ara"
   ]
  },
  {
   "cell_type": "code",
   "execution_count": 33,
   "id": "71f1d3b1",
   "metadata": {},
   "outputs": [
    {
     "data": {
      "text/plain": [
       "12.0"
      ]
     },
     "execution_count": 33,
     "metadata": {},
     "output_type": "execute_result"
    }
   ],
   "source": [
    "# square root\n",
    "np.sqrt(144)"
   ]
  },
  {
   "cell_type": "code",
   "execution_count": 34,
   "id": "1b5bec25",
   "metadata": {},
   "outputs": [
    {
     "data": {
      "text/plain": [
       "array([1.        , 3.        , 5.19615242, 8.06225775])"
      ]
     },
     "execution_count": 34,
     "metadata": {},
     "output_type": "execute_result"
    }
   ],
   "source": [
    "np.sqrt([1,9,27,65])"
   ]
  },
  {
   "cell_type": "code",
   "execution_count": 35,
   "id": "114987bc",
   "metadata": {},
   "outputs": [
    {
     "data": {
      "text/plain": [
       "array([1.        , 1.41421356, 1.73205081, 6.63324958, 2.23606798])"
      ]
     },
     "execution_count": 35,
     "metadata": {},
     "output_type": "execute_result"
    }
   ],
   "source": [
    "np.sqrt(ara)"
   ]
  },
  {
   "cell_type": "code",
   "execution_count": null,
   "id": "bbe8f2c2",
   "metadata": {},
   "outputs": [],
   "source": []
  }
 ],
 "metadata": {
  "kernelspec": {
   "display_name": "Python 3 (ipykernel)",
   "language": "python",
   "name": "python3"
  },
  "language_info": {
   "codemirror_mode": {
    "name": "ipython",
    "version": 3
   },
   "file_extension": ".py",
   "mimetype": "text/x-python",
   "name": "python",
   "nbconvert_exporter": "python",
   "pygments_lexer": "ipython3",
   "version": "3.9.13"
  }
 },
 "nbformat": 4,
 "nbformat_minor": 5
}
