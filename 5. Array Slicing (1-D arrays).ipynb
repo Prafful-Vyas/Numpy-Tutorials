{
 "cells": [
  {
   "cell_type": "markdown",
   "id": "c81b3772",
   "metadata": {},
   "source": [
    "## Accessing Multiple elements (Array Slicing)\n",
    "- Taking multiple elements\n",
    "- syntax array[start:stop:size]\n",
    "    - If we don't pass start its considered 0\n",
    "    - If we don't pass end its considered length of array in that dimension\n",
    "    - If we don't pass step its considered 1\n"
   ]
  },
  {
   "cell_type": "code",
   "execution_count": 1,
   "id": "d6c93716",
   "metadata": {},
   "outputs": [],
   "source": [
    "import numpy as np"
   ]
  },
  {
   "cell_type": "code",
   "execution_count": 2,
   "id": "63a7d318",
   "metadata": {},
   "outputs": [],
   "source": [
    "arr = np.array([12,23,45,6,67,78,65,'jaiyesh','pfs','last'])"
   ]
  },
  {
   "cell_type": "code",
   "execution_count": 4,
   "id": "e178e353",
   "metadata": {},
   "outputs": [
    {
     "data": {
      "text/plain": [
       "array(['23', '67', 'last'], dtype='<U11')"
      ]
     },
     "execution_count": 4,
     "metadata": {},
     "output_type": "execute_result"
    }
   ],
   "source": [
    "# accessing 2nd 5th and last element\n",
    "arr[[1,4,-1]]"
   ]
  },
  {
   "cell_type": "code",
   "execution_count": 6,
   "id": "9d39d158",
   "metadata": {},
   "outputs": [
    {
     "data": {
      "text/plain": [
       "array(['12', '23', '45', '6', '67'], dtype='<U11')"
      ]
     },
     "execution_count": 6,
     "metadata": {},
     "output_type": "execute_result"
    }
   ],
   "source": [
    "# elements from 0 to 4th index\n",
    "arr[0:5]"
   ]
  },
  {
   "cell_type": "code",
   "execution_count": 7,
   "id": "b9b957af",
   "metadata": {},
   "outputs": [
    {
     "data": {
      "text/plain": [
       "array(['12', '45', '67', '65', 'pfs'], dtype='<U11')"
      ]
     },
     "execution_count": 7,
     "metadata": {},
     "output_type": "execute_result"
    }
   ],
   "source": [
    "# alternate elements\n",
    "arr[::2]"
   ]
  },
  {
   "cell_type": "code",
   "execution_count": 8,
   "id": "b83a54a7",
   "metadata": {},
   "outputs": [
    {
     "data": {
      "text/plain": [
       "array(['12', '23', '45', '6', '67', '78'], dtype='<U11')"
      ]
     },
     "execution_count": 8,
     "metadata": {},
     "output_type": "execute_result"
    }
   ],
   "source": [
    "# elements till 5th index\n",
    "arr[:6]"
   ]
  },
  {
   "cell_type": "code",
   "execution_count": 9,
   "id": "a51b6ed1",
   "metadata": {},
   "outputs": [
    {
     "data": {
      "text/plain": [
       "array(['65', 'jaiyesh', 'pfs', 'last'], dtype='<U11')"
      ]
     },
     "execution_count": 9,
     "metadata": {},
     "output_type": "execute_result"
    }
   ],
   "source": [
    "# 6th index element and above\n",
    "arr[6:]"
   ]
  },
  {
   "cell_type": "code",
   "execution_count": 11,
   "id": "524d9182",
   "metadata": {},
   "outputs": [
    {
     "data": {
      "text/plain": [
       "array(['last', 'pfs', 'jaiyesh', '65', '78', '67', '6', '45', '23'],\n",
       "      dtype='<U11')"
      ]
     },
     "execution_count": 11,
     "metadata": {},
     "output_type": "execute_result"
    }
   ],
   "source": [
    "# reversing array\n",
    "arr[-1:0:-1]"
   ]
  },
  {
   "cell_type": "code",
   "execution_count": 12,
   "id": "0fa4e002",
   "metadata": {},
   "outputs": [
    {
     "data": {
      "text/plain": [
       "array(['last', 'jaiyesh', '78', '6', '23'], dtype='<U11')"
      ]
     },
     "execution_count": 12,
     "metadata": {},
     "output_type": "execute_result"
    }
   ],
   "source": [
    "# alternate elements in reverse array\n",
    "arr[-1:0:-2]"
   ]
  },
  {
   "cell_type": "code",
   "execution_count": null,
   "id": "571e4f16",
   "metadata": {},
   "outputs": [],
   "source": []
  }
 ],
 "metadata": {
  "kernelspec": {
   "display_name": "Python 3 (ipykernel)",
   "language": "python",
   "name": "python3"
  },
  "language_info": {
   "codemirror_mode": {
    "name": "ipython",
    "version": 3
   },
   "file_extension": ".py",
   "mimetype": "text/x-python",
   "name": "python",
   "nbconvert_exporter": "python",
   "pygments_lexer": "ipython3",
   "version": "3.9.13"
  }
 },
 "nbformat": 4,
 "nbformat_minor": 5
}
